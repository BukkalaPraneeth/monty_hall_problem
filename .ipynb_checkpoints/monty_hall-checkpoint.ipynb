{
 "cells": [
  {
   "cell_type": "markdown",
   "metadata": {},
   "source": [
    "# The Monty Hall Problem"
   ]
  },
  {
   "cell_type": "markdown",
   "metadata": {},
   "source": [
    "The Monty Hall Problem is a famous game show problem which involves a host, a contestant, three doors, 2 goats, and 1 Ferrari. The game show goes like this:\n",
    "    \n",
    "1. The contestant picks any door (1, 2, or 3). Let's say this is door 1.\n",
    "\n",
    "2. The host then reveals what is behind one of the doors that is not selected and not surprisingly it is a goat. Let's say this is door 3. So door 1 (the contestant's original selection) and door 2 (the door that has yet to be revealed) are still in play.\n",
    "\n",
    "3. The host then asks the contestant if they want to stay with the original guess, door 1 in our example, or switch to the remaining door, which is door 2 in our example.\n",
    "    \n",
    "What would you do? Would you stay with your original guess of door 1 or would you switch to door 2? What is probability of winning the Ferrari if you stay? What is the probability if you switch? If you said that your probability increases from 1/3 to 1/2 if you stay, and should therefore stay, sorry you're wrong! That isn't to say you won't win if you stay, in fact you should win approximately 1/3 of the time. However, if you consistently (and blindly) switch your pick after the host reveals the first goat, your probability of winning increases to 2/3.\n",
    "\n",
    "Let's think about this logically for a second. One major key to this problem is that the host will never reveal which door the Ferrari is behind (this is a game show after all so we must keep the audience's interest!). So with that understanding, let's assume that you choose to implement the strategy of blindly switching to the other door with your 2nd attempt. For you to win (i.e., select the door hiding the Ferrari with your second guess), you would have had to first select a goat so that you could switch to the Ferrari. Remember, the host is never going to reveal which door the Ferrari is behind thus eliminating one of the goats. What is the probability of selecting a goat at the beginning? That's right; it is 2/3! With the swithcing strategy, in order for you to lose (i.e., select the door hiding the goat with your second guess), you would have to originally selected the Ferrari. The probability of doing so is 1/3. Note, that the probability of winning should you stay each time is equal to one minus the probability of winning if you switch each time, or simply: P(Stay_Winning) = 1 - P(Switch_Winning) = 1 - 2/3 = 1/3.\n",
    "\n",
    "Let's prove this with some code."
   ]
  },
  {
   "cell_type": "markdown",
   "metadata": {},
   "source": [
    "# Solution"
   ]
  },
  {
   "cell_type": "markdown",
   "metadata": {},
   "source": [
    "## Import Libraries"
   ]
  },
  {
   "cell_type": "code",
   "execution_count": 2,
   "metadata": {},
   "outputs": [],
   "source": [
    "import numpy as np\n",
    "import matplotlib.pyplot as plt\n",
    "import seaborn as sns\n",
    "\n",
    "# Visualizations\n",
    "%matplotlib inline\n",
    "sns.set_style('darkgrid')"
   ]
  },
  {
   "cell_type": "markdown",
   "metadata": {},
   "source": [
    "## Generate Multiple Environments"
   ]
  },
  {
   "cell_type": "code",
   "execution_count": 3,
   "metadata": {},
   "outputs": [],
   "source": [
    "# containers to house 0 or 1 depending on the outcome\n",
    "stay = []\n",
    "switch = []\n",
    "doors = [1,2,3]\n",
    "\n",
    "# we will consider 10^4 \"environments\" where the contestant either stays or switches\n",
    "environments = range(10**4)\n",
    "for environment in environments:\n",
    "\n",
    "    # randomly assign the Ferrari behind door 1,2, or 3\n",
    "    ferrari_door = np.random.randint(1,4)\n",
    "    \n",
    "    # random assign a guess for the contestant\n",
    "    contestant_guess = np.random.randint(1,4)\n",
    "    \n",
    "    # goat doors are the doors that are not hiding the Ferrari \n",
    "    goat_doors = [door for door in doors if door != ferrari_door]\n",
    "   \n",
    "    # host reveals a goat. Note, if the host has 2 doors to choose from,\n",
    "    # it is because the contestant_guess == ferrari_door\n",
    "    # If the host has only 1 door to choose from, then contestant_guess != ferrari_door\n",
    "    possible_reveal_doors = [door for door in goat_doors if door != contestant_guess]\n",
    "    if len(possible_reveal_doors) == 2:\n",
    "        reveal_door = np.random.choice(possible_reveal_doors)\n",
    "    else:\n",
    "        reveal_door = possible_reveal_doors[0]\n",
    "       \n",
    "    # Define the door that the contest would switch to\n",
    "    # We only care about the sole element of this list\n",
    "    switch_door = [door for door in doors if door != contestant_guess and door != reveal_door][0]\n",
    "\n",
    "    # Let's record the results of our model over 10^4 switching or staying outcomes\n",
    "    if ferrari_door == switch_door:\n",
    "        switch.append(1)\n",
    "        stay.append(0)\n",
    "    else:\n",
    "        switch.append(0)\n",
    "        stay.append(1)"
   ]
  },
  {
   "cell_type": "markdown",
   "metadata": {},
   "source": [
    "## Calculate Probability of Winning for Each Startegy"
   ]
  },
  {
   "cell_type": "code",
   "execution_count": 4,
   "metadata": {},
   "outputs": [
    {
     "name": "stdout",
     "output_type": "stream",
     "text": [
      "Probability of Winning if Switch:  66.92%\n",
      "Probability of Winning if Stay:  33.08%\n"
     ]
    }
   ],
   "source": [
    "# Probabilities\n",
    "prob_win_switch = np.mean(switch)\n",
    "prob_win_stay = np.mean(stay)\n",
    "print(f\"Probability of Winning if Switch: {prob_win_switch : 0.2%}\")\n",
    "print(f\"Probability of Winning if Stay: {prob_win_stay : 0.2%}\")"
   ]
  },
  {
   "cell_type": "markdown",
   "metadata": {},
   "source": [
    "## Vizualize Our Results"
   ]
  },
  {
   "cell_type": "code",
   "execution_count": null,
   "metadata": {},
   "outputs": [],
   "source": [
    "# Create figure and add subplot\n",
    "fig = plt.figure(figsize = (10,8));\n",
    "ax = fig.add_subplot(111);\n",
    "\n",
    "# Redefine environments and define winning % for each environments in environments\n",
    "environments = range(1,10**4+1)\n",
    "switch_probs = [np.mean(switch[:environment]) for environment in environments]\n",
    "stay_probs = [np.mean(stay[:environment]) for environment in environments]\n",
    "\n",
    "# Generate line graphs of win probabilites for each environment\n",
    "ax.plot(environments, switch_probs, label=f\"Switch Avg: {prob_win_switch : 0.2%}\");\n",
    "ax.plot(environments, stay_probs, label=f\"Stay Avg: {prob_win_stay : 0.2%}\");\n",
    "\n",
    "# Add labels\n",
    "ax.set_title(\"Winning Probabilities By Startegy (Switch vs. Stay)\", {'fontsize' :  16});\n",
    "ax.set_ylabel(\"Winning Probability\", {'fontsize' :  14});\n",
    "ax.set_xlabel(\"Random Environment (a.k.a Each Game Show)\", {'fontsize' :  14});\n",
    "\n",
    "# Add legend\n",
    "ax.legend(fontsize = 'large');"
   ]
  },
  {
   "cell_type": "code",
   "execution_count": null,
   "metadata": {},
   "outputs": [],
   "source": []
  }
 ],
 "metadata": {
  "kernelspec": {
   "display_name": "Python 3",
   "language": "python",
   "name": "python3"
  },
  "language_info": {
   "codemirror_mode": {
    "name": "ipython",
    "version": 3
   },
   "file_extension": ".py",
   "mimetype": "text/x-python",
   "name": "python",
   "nbconvert_exporter": "python",
   "pygments_lexer": "ipython3",
   "version": "3.7.4"
  },
  "toc": {
   "base_numbering": 1,
   "nav_menu": {},
   "number_sections": true,
   "sideBar": true,
   "skip_h1_title": false,
   "title_cell": "Table of Contents",
   "title_sidebar": "Contents",
   "toc_cell": false,
   "toc_position": {},
   "toc_section_display": true,
   "toc_window_display": true
  }
 },
 "nbformat": 4,
 "nbformat_minor": 2
}
